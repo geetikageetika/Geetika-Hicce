{
 "cells": [
  {
   "cell_type": "code",
   "execution_count": 1,
   "metadata": {},
   "outputs": [],
   "source": [
    "from udma import *\n",
    "import numpy as np\n",
    "import matplotlib.pyplot as plt"
   ]
  },
  {
   "cell_type": "code",
   "execution_count": 2,
   "metadata": {},
   "outputs": [
    {
     "data": {
      "text/plain": [
       "1"
      ]
     },
     "execution_count": 2,
     "metadata": {},
     "output_type": "execute_result"
    }
   ],
   "source": [
    "cb=UDMA_CLASS(\"140.105.17.180\", 7)\n",
    "cb.connect()"
   ]
  },
  {
   "attachments": {},
   "cell_type": "markdown",
   "metadata": {},
   "source": [
    "Comblock Registers\n",
    "\n",
    "|Register | Connection |\n",
    "| ----- | ---- |\n",
    "|reg0_o | Config_Res_intan_A|\n",
    "|reg1_o | Config_Res_intan_B|\n",
    "|reg2_o | Config_Res_intan_C|\n",
    "|reg3_o | Config_Res_intan_D|\n",
    "|reg4_o | Read_intan(3:0)|\n",
    "|reg5_o | Sys_reset (active low)|\n",
    "|reg6_o | **Combintan_w_header**/nsamples |\n",
    "|reg7_o | **Combintan_w_header**/sys_en |\n",
    "\n"
   ]
  },
  {
   "cell_type": "code",
   "execution_count": 5,
   "metadata": {},
   "outputs": [
    {
     "data": {
      "text/plain": [
       "[(1, 0), 0]"
      ]
     },
     "execution_count": 5,
     "metadata": {},
     "output_type": "execute_result"
    }
   ],
   "source": [
    "# Select comblock\n",
    "cb.select_comblock(0)\n",
    "# Reset HiCCE\n",
    "cb.write_reg(5, 0) #RESET ON\n",
    "cb.write_reg(5, 1) #RESET OFF\n",
    "#Disable Acquisiton \n",
    "cb.write_reg(4, 0)\n",
    "\n",
    "# FIFO Clear\n",
    "cb.write_reg(17, 1)\n",
    "cb.write_reg(17, 0)\n",
    "# Configure INTANT (Reset Counter)\n",
    "cb.write_reg(0, 7170)\n",
    "cb.write_reg(1, 7170)\n",
    "cb.write_reg(2, 7170)\n",
    "cb.write_reg(3, 7170)\n",
    "# Configure INTANT (Cyclic Read)\n",
    "cb.write_reg(0, 6182)\n",
    "cb.write_reg(1, 6182)\n",
    "cb.write_reg(2, 6182)\n",
    "cb.write_reg(3, 6182)\n",
    "\n",
    "cb.write_reg(6, 320)\n",
    "cb.write_reg(4, 15)\n",
    "cb.write_reg(7, 15)\n"
   ]
  },
  {
   "cell_type": "code",
   "execution_count": null,
   "metadata": {},
   "outputs": [],
   "source": []
  },
  {
   "cell_type": "code",
   "execution_count": 4,
   "metadata": {},
   "outputs": [
    {
     "data": {
      "text/plain": [
       "[(1, 0), 0]"
      ]
     },
     "execution_count": 4,
     "metadata": {},
     "output_type": "execute_result"
    }
   ],
   "source": [
    "dataab=cb.read_fifo(1000)\n",
    "dataab"
   ]
  }
 ],
 "metadata": {
  "kernelspec": {
   "display_name": "Python 3",
   "language": "python",
   "name": "python3"
  },
  "language_info": {
   "codemirror_mode": {
    "name": "ipython",
    "version": 3
   },
   "file_extension": ".py",
   "mimetype": "text/x-python",
   "name": "python",
   "nbconvert_exporter": "python",
   "pygments_lexer": "ipython3",
   "version": "3.8.10"
  },
  "orig_nbformat": 4
 },
 "nbformat": 4,
 "nbformat_minor": 2
}
