{
 "cells": [
  {
   "cell_type": "code",
   "execution_count": 1,
   "metadata": {},
   "outputs": [],
   "source": [
    "from udma import *\n",
    "import numpy as np\n",
    "import matplotlib.pyplot as plt"
   ]
  },
  {
   "cell_type": "code",
   "execution_count": 2,
   "metadata": {},
   "outputs": [
    {
     "data": {
      "text/plain": [
       "[(5,), 0]"
      ]
     },
     "execution_count": 2,
     "metadata": {},
     "output_type": "execute_result"
    }
   ],
   "source": [
    "cb=UDMA_CLASS(\"140.105.17.180\", 7)\n",
    "# cb=UDMA_CLASS(\"192.168.1.10\", 7)\n",
    "cb.connect()\n",
    "cb.log(0)"
   ]
  },
  {
   "attachments": {},
   "cell_type": "markdown",
   "metadata": {},
   "source": [
    "Comblock Registers\n",
    "\n",
    "|Register | Connection |\n",
    "| ----- | ---- |\n",
    "|reg0_o | Config_Res_intan_A|\n",
    "|reg1_o | Config_Res_intan_B|\n",
    "|reg2_o | Config_Res_intan_C|\n",
    "|reg3_o | Config_Res_intan_D|\n",
    "|reg4_o | Read_intan(3:0)|\n",
    "|reg5_o | Sys_reset (active low)|\n",
    "|reg6_o | **Combintan_w_header**/nsamples |\n",
    "|reg7_o | **Combintan_w_header**/sys_en |\n",
    "\n",
    "\n",
    "\n"
   ]
  },
  {
   "cell_type": "code",
   "execution_count": 9,
   "metadata": {},
   "outputs": [],
   "source": [
    "def hicce_init(test_mode=0):\n",
    "    # Select comblock\n",
    "    cb.select_comblock(0)\n",
    "    # Reset HiCCE\n",
    "    cb.write_reg(5, 0) #RESET ON\n",
    "    \n",
    "    #Disable Acquisiton \n",
    "    cb.write_reg(4, 0)\n",
    "    cb.write_reg(7, 0)\n",
    "\n",
    "    # FIFO Clear\n",
    "    cb.select_comblock(0)\n",
    "    cb.write_reg(17, 1)\n",
    "    cb.write_reg(17, 0)\n",
    "    cb.select_comblock(1)\n",
    "    cb.write_reg(17, 1)\n",
    "    cb.write_reg(17, 0)\n",
    "    cb.select_comblock(0)\n",
    "\n",
    "    # Configure INTANT in Sequential mode (Reset Counter)\n",
    "    cb.write_reg(0, 0x1c02+test_mode)\n",
    "    cb.write_reg(1, 0x1c02+test_mode)\n",
    "    cb.write_reg(2, 0x1c02+test_mode)\n",
    "    cb.write_reg(3, 0x1c02+test_mode)\n",
    "    # Configure INTANT (Cyclic Read)\n",
    "    cb.write_reg(0, 0x26+test_mode)\n",
    "    cb.write_reg(1, 0x26+test_mode)\n",
    "    cb.write_reg(2, 0x26+test_mode)\n",
    "    cb.write_reg(3, 0x26+test_mode)\n",
    "\n",
    "def enable_acquisition(NSamples=100):\n",
    "    cb.select_comblock(0)\n",
    "    #Set number of samples per package\n",
    "    cb.write_reg(6, 32*NSamples)\n",
    "\n",
    "    #Enable acquisition\n",
    "    cb.write_reg(4, 15) ##Enabling INTAN readout (legacy)\n",
    "    cb.write_reg(5, 1) ##Enabling HICCE Driver\n",
    "    cb.write_reg(7, 1) #Enable FIFOs\n",
    "    \n",
    "    \n",
    "\n",
    "def read_channels(Ncomblock=0, NSamp=100, TO=1000):\n",
    "    cb.select_comblock(Ncomblock)\n",
    "    wordsInFifo=cb.read_reg(34)[1][0]>>16\n",
    "    #Wait until FIFO have enough samples to read.\n",
    "    wd=0\n",
    "    while wordsInFifo<(32*NSamp+4):\n",
    "        wordsInFifo_new=cb.read_reg(34)[1][0]>>16\n",
    "        if wordsInFifo_new == wordsInFifo:\n",
    "            wd+=1\n",
    "            if wd==TO: #if the value doesn't change after TO iterations return error\n",
    "                return -1\n",
    "        else:\n",
    "            wordsInFifo=wordsInFifo_new\n",
    "            print(\"Values in FIFO \", wordsInFifo)\n",
    "            wd=0\n",
    "    if NSamp==1:\n",
    "        samples_to_read=(32*NSamp)+5\n",
    "    else:\n",
    "        samples_to_read=(32*NSamp)+4\n",
    "\n",
    "    dpack=cb.read_hicce(samples_to_read)\n",
    "    if dpack[0][0] == -1:\n",
    "        return -1\n",
    "    elif dpack[0][1] < samples_to_read:\n",
    "        return -1\n",
    "    else:\n",
    "        return dpack[1]\n",
    "\n",
    "def decode(dpack):\n",
    "    head=dpack[0]\n",
    "    CEN=(head>>16) & 0xff\n",
    "    SBT=(head>>8) & 0xff\n",
    "    SAT=head & 0xff\n",
    "    TS=dpack[1]<<32 | dpack[2]\n",
    "    TAIL=dpack[-1]\n",
    "    CENT=(TAIL>>16) & 0xff\n",
    "    FLAGS=TAIL & 0xffff\n",
    "    \n",
    "    CH=[]\n",
    "    for i in range(64):\n",
    "        CH.append([])\n",
    "    \n",
    "    for i in range(len(dpack[3:-1])):\n",
    "        d=dpack[i]\n",
    "        #Splitting into Most significant channel and less significant channel\n",
    "        MSCH=d>>16\n",
    "        LSCH=d&0xffff\n",
    "\n",
    "        if MSCH >= 0x8000:  # Check if number is negative\n",
    "            MSCH = -((MSCH ^ 0xffff) + 1) # Convert two's complement to negative number\n",
    "        if LSCH >= 0x8000:  # Check if number is negative\n",
    "            LSCH = -((LSCH ^ 0xffff) + 1) # Convert two's complement to negative number\n",
    "        \n",
    "        CH[(i%32)].append(MSCH)\n",
    "        CH[(i%32)+32].append(LSCH)\n",
    "         \n",
    "    return CH, TS, (SBT==SAT, FLAGS==0)"
   ]
  },
  {
   "cell_type": "code",
   "execution_count": null,
   "metadata": {},
   "outputs": [],
   "source": [
    "# cb.s.recv(1000)"
   ]
  },
  {
   "cell_type": "code",
   "execution_count": null,
   "metadata": {},
   "outputs": [],
   "source": [
    "sampling_time=4e-9\n",
    "NofIterations=50\n",
    "chunksize=20\n",
    "\n",
    "hicce_init(test_mode=0)\n",
    "enable_acquisition(chunksize)\n",
    "ch=[]\n",
    "t=[]\n",
    "for i in range(128):\n",
    "    ch.append([])\n",
    "for i in range(NofIterations):\n",
    "    ab_raw=read_channels(0,chunksize)\n",
    "    cd_raw=read_channels(1,chunksize)\n",
    "    if ab_raw == -1:\n",
    "        print('Error', i)\n",
    "        pass\n",
    "    else:\n",
    "        ab_decode=decode(ab_raw)\n",
    "        CHAB, TSAB, FLAGSAB=ab_decode\n",
    "    if cd_raw == -1:\n",
    "        pass\n",
    "    else:\n",
    "        CHCD, TSCD, FLAGSCD=decode(cd_raw)\n",
    "    ttemp=[TSAB*sampling_time + i * sampling_time for i in range(chunksize)]\n",
    "    for i in range(64):\n",
    "        if FLAGSAB[0] or FLAGSAB[1] or FLAGSCD[0] or FLAGSCD[1]:\n",
    "            ch[i]=ch[i]+CHAB[i]\n",
    "            ch[i%64+64]=ch[i%64+64]+CHCD[i]\n",
    "    t=ttemp+t"
   ]
  },
  {
   "cell_type": "code",
   "execution_count": null,
   "metadata": {},
   "outputs": [],
   "source": [
    "def readall(NofIterations=50, chunksize=20):\n",
    "    ch=[]\n",
    "    tAB=[]\n",
    "    tCD=[]\n",
    "\n",
    "    samples=[]\n",
    "\n",
    "    for i in range(128):\n",
    "        ch.append([])\n",
    "    for i in range(NofIterations):\n",
    "        ab_raw=read_channels(0,chunksize)\n",
    "        cd_raw=read_channels(1,chunksize)\n",
    "        if ab_raw == -1:\n",
    "            print('Error', i)\n",
    "            pass\n",
    "        else:\n",
    "            ab_decode=decode(ab_raw)\n",
    "            CHAB, TSAB, FLAGSAB=ab_decode\n",
    "        if cd_raw == -1:\n",
    "            pass\n",
    "        else:\n",
    "            CHCD, TSCD, FLAGSCD=decode(cd_raw)\n",
    "        if FLAGSAB[0] or FLAGSAB[1] or FLAGSCD[0] or FLAGSCD[1]:\n",
    "            samples.append(CHAB+CHCD)\n",
    "            tAB.append(TSAB)\n",
    "            tCD.append(TSCD)\n",
    "\n",
    "    return samples, tAB, tCD"
   ]
  },
  {
   "cell_type": "code",
   "execution_count": 6,
   "metadata": {},
   "outputs": [],
   "source": [
    "def read_HICCE(comblock=0, NofIterations=50, chunksize=20):\n",
    "    ch=[]\n",
    "    t=[]\n",
    "    samples=[]\n",
    "    for i in range(128):\n",
    "        ch.append([])\n",
    "    for i in range(NofIterations):\n",
    "        data_raw=read_channels(comblock,chunksize)\n",
    "        print(data_raw)\n",
    "        if data_raw == -1:\n",
    "            print('Error', i)\n",
    "            pass\n",
    "        else:\n",
    "            CH, TS, FLAGS=decode(data_raw)\n",
    "            if FLAGS[0] or FLAGS[1] :\n",
    "                samples.append(CH)\n",
    "                t.append(TS)\n",
    "            else:\n",
    "                print('Flags Error', i)\n",
    "\n",
    "    return samples, t"
   ]
  },
  {
   "cell_type": "code",
   "execution_count": 7,
   "metadata": {},
   "outputs": [
    {
     "ename": "KeyboardInterrupt",
     "evalue": "",
     "output_type": "error",
     "traceback": [
      "\u001b[0;31m---------------------------------------------------------------------------\u001b[0m",
      "\u001b[0;31mKeyboardInterrupt\u001b[0m                         Traceback (most recent call last)",
      "Cell \u001b[0;32mIn[7], line 1\u001b[0m\n\u001b[0;32m----> 1\u001b[0m cb\u001b[39m.\u001b[39;49ms\u001b[39m.\u001b[39;49mrecv(\u001b[39m1000\u001b[39;49m)\n",
      "\u001b[0;31mKeyboardInterrupt\u001b[0m: "
     ]
    }
   ],
   "source": [
    "cb.s.recv(1000)"
   ]
  },
  {
   "cell_type": "code",
   "execution_count": 8,
   "metadata": {},
   "outputs": [
    {
     "ename": "KeyboardInterrupt",
     "evalue": "",
     "output_type": "error",
     "traceback": [
      "\u001b[0;31m---------------------------------------------------------------------------\u001b[0m",
      "\u001b[0;31mKeyboardInterrupt\u001b[0m                         Traceback (most recent call last)",
      "Cell \u001b[0;32mIn[8], line 7\u001b[0m\n\u001b[1;32m      5\u001b[0m hicce_init(test_mode\u001b[39m=\u001b[39m\u001b[39m0\u001b[39m)\n\u001b[1;32m      6\u001b[0m enable_acquisition(chunksize)\n\u001b[0;32m----> 7\u001b[0m samples, tab, tcd\u001b[39m=\u001b[39mread_HICCE(\u001b[39m0\u001b[39;49m,NofIterations, chunksize)\n\u001b[1;32m      8\u001b[0m \u001b[39mfor\u001b[39;00m i \u001b[39min\u001b[39;00m \u001b[39mrange\u001b[39m(\u001b[39mlen\u001b[39m(samples)):\n\u001b[1;32m      9\u001b[0m     sample\u001b[39m=\u001b[39msamples[i]                \n",
      "Cell \u001b[0;32mIn[6], line 8\u001b[0m, in \u001b[0;36mread_HICCE\u001b[0;34m(comblock, NofIterations, chunksize)\u001b[0m\n\u001b[1;32m      6\u001b[0m     ch\u001b[39m.\u001b[39mappend([])\n\u001b[1;32m      7\u001b[0m \u001b[39mfor\u001b[39;00m i \u001b[39min\u001b[39;00m \u001b[39mrange\u001b[39m(NofIterations):\n\u001b[0;32m----> 8\u001b[0m     data_raw\u001b[39m=\u001b[39mread_channels(comblock,chunksize)\n\u001b[1;32m      9\u001b[0m     \u001b[39mprint\u001b[39m(data_raw)\n\u001b[1;32m     10\u001b[0m     \u001b[39mif\u001b[39;00m data_raw \u001b[39m==\u001b[39m \u001b[39m-\u001b[39m\u001b[39m1\u001b[39m:\n",
      "Cell \u001b[0;32mIn[3], line 49\u001b[0m, in \u001b[0;36mread_channels\u001b[0;34m(Ncomblock, NSamp, TO)\u001b[0m\n\u001b[1;32m     47\u001b[0m wd\u001b[39m=\u001b[39m\u001b[39m0\u001b[39m\n\u001b[1;32m     48\u001b[0m \u001b[39mwhile\u001b[39;00m wordsInFifo\u001b[39m<\u001b[39m(\u001b[39m32\u001b[39m\u001b[39m*\u001b[39mNSamp\u001b[39m+\u001b[39m\u001b[39m4\u001b[39m):\n\u001b[0;32m---> 49\u001b[0m     wordsInFifo_new\u001b[39m=\u001b[39mcb\u001b[39m.\u001b[39;49mread_reg(\u001b[39m34\u001b[39;49m)[\u001b[39m1\u001b[39m][\u001b[39m0\u001b[39m]\u001b[39m>>\u001b[39m\u001b[39m16\u001b[39m\n\u001b[1;32m     50\u001b[0m     \u001b[39mif\u001b[39;00m wordsInFifo_new \u001b[39m==\u001b[39m wordsInFifo:\n\u001b[1;32m     51\u001b[0m         wd\u001b[39m+\u001b[39m\u001b[39m=\u001b[39m\u001b[39m1\u001b[39m\n",
      "File \u001b[0;32m~/.local/lib/python3.8/site-packages/udma/udma.py:180\u001b[0m, in \u001b[0;36mUDMA_CLASS.read_reg\u001b[0;34m(self, reg)\u001b[0m\n\u001b[1;32m    178\u001b[0m head \u001b[39m=\u001b[39m unpack(\u001b[39m'\u001b[39m\u001b[39m<II\u001b[39m\u001b[39m'\u001b[39m, rx_buf)\n\u001b[1;32m    179\u001b[0m \u001b[39mif\u001b[39;00m head[\u001b[39m0\u001b[39m] \u001b[39m==\u001b[39m SUCCESS:\n\u001b[0;32m--> 180\u001b[0m \trx_buf \u001b[39m=\u001b[39m \u001b[39mself\u001b[39;49m\u001b[39m.\u001b[39;49ms\u001b[39m.\u001b[39;49mrecv(\u001b[39m4\u001b[39;49m)\n\u001b[1;32m    181\u001b[0m \trx_dat \u001b[39m=\u001b[39m unpack(\u001b[39m'\u001b[39m\u001b[39m<\u001b[39m\u001b[39m'\u001b[39m \u001b[39m+\u001b[39m \u001b[39m'\u001b[39m\u001b[39mI\u001b[39m\u001b[39m'\u001b[39m, rx_buf)\n\u001b[1;32m    182\u001b[0m \t\u001b[39mreturn\u001b[39;00m [head, rx_dat]\n",
      "\u001b[0;31mKeyboardInterrupt\u001b[0m: "
     ]
    }
   ],
   "source": [
    "sampling_time=4e-9\n",
    "NofIterations=500\n",
    "chunksize=20\n",
    "\n",
    "hicce_init(test_mode=0)\n",
    "enable_acquisition(chunksize)\n",
    "samples, tab, tcd=read_HICCE(0,NofIterations, chunksize)\n",
    "for i in range(len(samples)):\n",
    "    sample=samples[i]                \n",
    "    timestamp=tab[i]*4e-9\n",
    "    print(len(sample), timestamp)"
   ]
  },
  {
   "cell_type": "code",
   "execution_count": null,
   "metadata": {},
   "outputs": [],
   "source": [
    "# sampling_time=4e-9\n",
    "# NofIterations=500\n",
    "# chunksize=20\n",
    "\n",
    "# hicce_init(test_mode=0)\n",
    "# enable_acquisition(chunksize)\n",
    "# samples, tab, tcd=readall(NofIterations, chunksize)\n",
    "# for i in range(len(samples)):\n",
    "#     sample=samples[i]                \n",
    "#     timestamp=tab[i]*4e-9\n",
    "#     print(len(sample), timestamp)\n"
   ]
  },
  {
   "cell_type": "code",
   "execution_count": null,
   "metadata": {},
   "outputs": [],
   "source": [
    "sampling_time=4e-9\n",
    "ch=[]\n",
    "t=[]\n",
    "for i in range(128):\n",
    "    ch.append([])\n",
    "for i in range(len(samples)):\n",
    "    sample=samples[i]\n",
    "    t0=tab[i]*sampling_time\n",
    "    for j in range(128):\n",
    "        ch[j]=ch[j]+sample[j]\n",
    "    for i in range(len(sample[0])):\n",
    "        t.append(t0+sampling_time*i)"
   ]
  },
  {
   "cell_type": "code",
   "execution_count": null,
   "metadata": {},
   "outputs": [],
   "source": [
    "tab"
   ]
  }
 ],
 "metadata": {
  "kernelspec": {
   "display_name": "Python 3 (ipykernel)",
   "language": "python",
   "name": "python3"
  },
  "language_info": {
   "codemirror_mode": {
    "name": "ipython",
    "version": 3
   },
   "file_extension": ".py",
   "mimetype": "text/x-python",
   "name": "python",
   "nbconvert_exporter": "python",
   "pygments_lexer": "ipython3",
   "version": "3.8.10"
  },
  "orig_nbformat": 4
 },
 "nbformat": 4,
 "nbformat_minor": 2
}
